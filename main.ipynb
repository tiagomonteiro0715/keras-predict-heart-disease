{
 "cells": [
  {
   "cell_type": "code",
   "execution_count": null,
   "id": "medieval-hypothetical",
   "metadata": {},
   "outputs": [],
   "source": [
    "https://medium.com/hackernoon/text-summarization-using-keras-models-366b002408d9"
   ]
  }
 ],
 "metadata": {
  "kernelspec": {
   "display_name": "Python second brain env",
   "language": "python",
   "name": "brain-tumor-e2xz5xls"
  },
  "language_info": {
   "codemirror_mode": {
    "name": "ipython",
    "version": 3
   },
   "file_extension": ".py",
   "mimetype": "text/x-python",
   "name": "python",
   "nbconvert_exporter": "python",
   "pygments_lexer": "ipython3",
   "version": "3.7.8"
  }
 },
 "nbformat": 4,
 "nbformat_minor": 5
}
